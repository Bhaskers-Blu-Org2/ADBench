{
 "metadata": {
  "name": "",
  "signature": "sha256:d0643aee20fc6cfeb7e6afdaf77c8684a7e15cc2f4c8b9fc0173d15c56ea95ce"
 },
 "nbformat": 3,
 "nbformat_minor": 0,
 "worksheets": []
}