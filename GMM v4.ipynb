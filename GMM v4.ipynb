{
 "metadata": {
  "language": "Julia",
  "name": "",
  "signature": "sha256:e36db38bd4006d6d60d3cebc9d20d58b15355c33d682bb40861c39f18b7b2d99"
 },
 "nbformat": 3,
 "nbformat_minor": 0,
 "worksheets": [
  {
   "cells": [
    {
     "cell_type": "code",
     "collapsed": false,
     "input": [
      "using ReverseDiffSource\n",
      "using Optim\n",
      "using Base.Test\n",
      "\n",
      "typealias Vec Vector{Float64}\n",
      "typealias Mat Matrix{Float64}"
     ],
     "language": "python",
     "metadata": {},
     "outputs": [
      {
       "metadata": {},
       "output_type": "pyout",
       "prompt_number": 1,
       "text": [
        "Array{Float64,2}"
       ]
      }
     ],
     "prompt_number": 1
    },
    {
     "cell_type": "code",
     "collapsed": true,
     "input": [
      "workspace()\n",
      "reload(\"ReverseDiffSource\")\n",
      "using ReverseDiffSource\n",
      "using Optim\n",
      "using Base.Test\n",
      "\n",
      "typealias Vec Vector{Float64}\n",
      "typealias Mat Matrix{Float64}"
     ],
     "language": "python",
     "metadata": {},
     "outputs": [
      {
       "output_type": "stream",
       "stream": "stderr",
       "text": [
        "Warning: Method definition isvalid"
       ]
      },
      {
       "output_type": "stream",
       "stream": "stderr",
       "text": [
        "Tuple{Char} in module Compat at C:\\Users\\awf\\.julia\\v0.4\\Compat\\src\\Compat.jl:451 overwritten in module Compat at C:\\Users\\awf\\.julia\\v0.4\\Compat\\src\\Compat.jl:451.\n",
        "Warning: Method definition isvalidTuple{ASCIIString} in module Compat at C:\\Users\\awf\\.julia\\v0.4\\Compat\\src\\Compat.jl:452 overwritten in module Compat at C:\\Users\\awf\\.julia\\v0.4\\Compat\\src\\Compat.jl:452.\n",
        "Warning: Method definition isvalidTuple{UTF8String} in module Compat at C:\\Users\\awf\\.julia\\v0.4\\Compat\\src\\Compat.jl:453 overwritten in module Compat at C:\\Users\\awf\\.julia\\v0.4\\Compat\\src\\Compat.jl:453.\n",
        "Warning: Method definition isvalidTuple{UTF16String} in module Compat at C:\\Users\\awf\\.julia\\v0.4\\Compat\\src\\Compat.jl:454 overwritten in module Compat at C:\\Users\\awf\\.julia\\v0.4\\Compat\\src\\Compat.jl:454.\n",
        "Warning: Method definition isvalidTuple{UTF32String} in module Compat at C:\\Users\\awf\\.julia\\v0.4\\Compat\\src\\Compat.jl:455 overwritten in module Compat at C:\\Users\\awf\\.julia\\v0.4\\Compat\\src\\Compat.jl:455.\n",
        "Warning: Method definition isvalidTuple{Type{Char},Any} in module Compat at C:\\Users\\awf\\.julia\\v0.4\\Compat\\src\\Compat.jl:456 overwritten in module Compat at C:\\Users\\awf\\.julia\\v0.4\\Compat\\src\\Compat.jl:456.\n",
        "Warning: Method definition isvalidTuple{Type{ASCIIString},Any} in module Compat at C:\\Users\\awf\\.julia\\v0.4\\Compat\\src\\Compat.jl:457 overwritten in module Compat at C:\\Users\\awf\\.julia\\v0.4\\Compat\\src\\Compat.jl:457.\n",
        "Warning: Method definition isvalidTuple{Type{UTF8String},Any} in module Compat at C:\\Users\\awf\\.julia\\v0.4\\Compat\\src\\Compat.jl:458 overwritten in module Compat at C:\\Users\\awf\\.julia\\v0.4\\Compat\\src\\Compat.jl:458.\n",
        "Warning: Method definition isvalidTuple{Type{UTF16String},Any} in module Compat at C:\\Users\\awf\\.julia\\v0.4\\Compat\\src\\Compat.jl:459 overwritten in module Compat at C:\\Users\\awf\\.julia\\v0.4\\Compat\\src\\Compat.jl:459.\n",
        "Warning: Method definition isvalidTuple{Type{UTF32String},Any} in module Compat"
       ]
      },
      {
       "output_type": "stream",
       "stream": "stderr",
       "text": [
        " at C:\\Users\\awf\\.julia\\v0.4\\Compat\\src\\Compat.jl:460 overwritten in module Compat at C:\\Users\\awf\\.julia\\v0.4\\Compat\\src\\Compat.jl:460.\n",
        "Warning: Method definition callTuple{Type{Timer},Function,Real} in module Compat at C:\\Users\\awf\\.julia\\v0.4\\Compat\\src\\timer.jl:69 overwritten in module Compat at C:\\Users\\awf\\.julia\\v0.4\\Compat\\src\\timer.jl:69.\n",
        "Warning: Method definition callTuple{Type{Timer},Function,Real,Real} in module Compat at C:\\Users\\awf\\.julia\\v0.4\\Compat\\src\\timer.jl:69 overwritten in module Compat at C:\\Users\\awf\\.julia\\v0.4\\Compat\\src\\timer.jl:69.\n",
        "Warning: Method definition callTuple{Type{Timer},Real} in module Compat at C:\\Users\\awf\\.julia\\v0.4\\Compat\\src\\timer.jl:79 overwritten in module Compat at C:\\Users\\awf\\.julia\\v0.4\\Compat\\src\\timer.jl:79.\n",
        "Warning: Method definition callTuple{Type{Timer},Real,Real} in module Compat at C:\\Users\\awf\\.julia\\v0.4\\Compat\\src\\timer.jl:79 overwritten in module Compat at C:\\Users\\awf\\.julia\\v0.4\\Compat\\src\\timer.jl:79.\n",
        "Warning: Method definition gc_enableTuple{Bool} in module Compat"
       ]
      },
      {
       "output_type": "stream",
       "stream": "stderr",
       "text": [
        " at C:\\Users\\awf\\.julia\\v0.4\\Compat\\src\\Compat.jl:478 overwritten in module Compat at C:\\Users\\awf\\.julia\\v0.4\\Compat\\src\\Compat.jl:478.\n",
        "Warning: Method definition gradientTuple{Function,Union(T<:Number,Array{T<:Number,1})} in module Calculus at C:\\Users\\awf\\.julia\\v0.4\\Calculus\\src\\derivative.jl:14 overwritten in module Calculus at C:\\Users\\awf\\.julia\\v0.4\\Calculus\\src\\derivative.jl:14.\n",
        "Warning: Method definition gradientTuple{Function,Union(T<:Number,Array{T<:Number,1}),Symbol} in module Calculus at C:\\Users\\awf\\.julia\\v0.4\\Calculus\\src\\derivative.jl:14 overwritten in module Calculus at C:\\Users\\awf\\.julia\\v0.4\\Calculus\\src\\derivative.jl:14.\n",
        "Warning: Method definition gradientTuple{Function} in module Calculus at C:\\Users\\awf\\.julia\\v0.4\\Calculus\\src\\derivative.jl:15 overwritten in module Calculus at C:\\Users\\awf\\.julia\\v0.4\\Calculus\\src\\derivative.jl:15.\n",
        "Warning: Method definition gradientTuple{Function,Symbol} in module Calculus at C:\\Users\\awf\\.julia\\v0.4\\Calculus\\src\\derivative.jl:15 overwritten in module Calculus at C:\\Users\\awf\\.julia\\v0.4\\Calculus\\src\\derivative.jl:15.\n",
        "Warning: Method definition ctransposeTuple{Function} in module Calculus"
       ]
      },
      {
       "output_type": "stream",
       "stream": "stderr",
       "text": [
        " at C:\\Users\\awf\\.julia\\v0.4\\Calculus\\src\\derivative.jl:17 overwritten in module Calculus at C:\\Users\\awf\\.julia\\v0.4\\Calculus\\src\\derivative.jl:17.\n",
        "Warning: New definition \n",
        "    islessTuple{Number,DualNumbers.Dual{T<:Real}} at C:\\Users\\awf\\.julia\\v0.4\\DualNumbers\\src\\dual.jl:111\n",
        "is ambiguous with: \n",
        "    islessTuple{LastMain.LastMain.LastMain.LastMain.LastMain.LastMain.DualNumbers.Dual{T<:Real},Number} at C:\\Users\\awf\\.julia\\v0.4\\DualNumbers\\src\\dual.jl:112.\n",
        "To fix, define \n",
        "    islessTuple{LastMain.LastMain.LastMain.LastMain.LastMain.LastMain.DualNumbers.Dual{T<:Real},DualNumbers.Dual{T<:Real}}\n",
        "before the new definition.\n",
        "Warning: New definition \n",
        "    islessTuple{Number,DualNumbers.Dual{T<:Real}} at C:\\Users\\awf\\.julia\\v0.4\\DualNumbers\\src\\dual.jl:111\n",
        "is ambiguous with: \n",
        "    islessTuple{LastMain.LastMain.LastMain.LastMain.DualNumbers.Dual{T<:Real},Number} at C:\\Users\\awf\\.julia\\v0.4\\DualNumbers\\src\\dual.jl:112.\n",
        "To fix, define \n",
        "    islessTuple{LastMain.LastMain.LastMain.LastMain.DualNumbers.Dual{T<:Real},DualNumbers.Dual{T<:Real}}\n",
        "before the new definition.\n",
        "Warning: New definition \n",
        "    islessTuple{Number,DualNumbers.Dual{T<:Real}} at C:\\Users\\awf\\.julia\\v0.4\\DualNumbers\\src\\dual.jl:111\n",
        "is ambiguous with: \n",
        "    islessTuple{LastMain.LastMain.LastMain.DualNumbers.Dual{T<:Real},Number} at C:\\Users\\awf\\.julia\\v0.4\\DualNumbers\\src\\dual.jl:112.\n",
        "To fix, define \n",
        "    islessTuple{LastMain.LastMain.LastMain.DualNumbers.Dual{T<:Real},DualNumbers.Dual{T<:Real}}\n",
        "before the new definition.\n",
        "Warning: New definition \n",
        "    islessTuple{Number,DualNumbers.Dual{T<:Real}} at C:\\Users\\awf\\.julia\\v0.4\\DualNumbers\\src\\dual.jl:111\n",
        "is ambiguous with: \n",
        "    islessTuple{LastMain.LastMain.DualNumbers.Dual{T<:Real},Number} at C:\\Users\\awf\\.julia\\v0.4\\DualNumbers\\src\\dual.jl:112.\n",
        "To fix, define \n",
        "    islessTuple{LastMain.LastMain.DualNumbers.Dual{T<:Real},DualNumbers.Dual{T<:Real}}\n",
        "before the new definition.\n",
        "Warning: New definition \n",
        "    islessTuple{Number,DualNumbers.Dual{T<:Real}} at C:\\Users\\awf\\.julia\\v0.4\\DualNumbers\\src\\dual.jl:111\n",
        "is ambiguous with: \n",
        "    islessTuple{LastMain.DualNumbers.Dual{T<:Real},Number} at C:\\Users\\awf\\.julia\\v0.4\\DualNumbers\\src\\dual.jl:112.\n",
        "To fix, define \n",
        "    islessTuple{LastMain.DualNumbers.Dual{T<:Real},DualNumbers.Dual{T<:Real}}\n",
        "before the new definition.\n",
        "Warning: New definition \n",
        "    islessTuple{DualNumbers.Dual{T<:Real},Number} at C:\\Users\\awf\\.julia\\v0.4\\DualNumbers\\src\\dual.jl:112\n",
        "is ambiguous with: \n",
        "    islessTuple{Number,LastMain.LastMain.LastMain.LastMain.LastMain.LastMain.DualNumbers.Dual{T<:Real}} at C:\\Users\\awf\\.julia\\v0.4\\DualNumbers\\src\\dual.jl:111.\n",
        "To fix, define \n",
        "    islessTuple{DualNumbers.Dual{T<:Real},LastMain.LastMain.LastMain.LastMain.LastMain.LastMain.DualNumbers.Dual{T<:Real}}\n",
        "before the new definition.\n",
        "Warning: New definition \n",
        "    islessTuple{DualNumbers.Dual{T<:Real},Number} at C:\\Users\\awf\\.julia\\v0.4\\DualNumbers\\src\\dual.jl:112\n",
        "is ambiguous with: \n",
        "    islessTuple{Number,LastMain.LastMain.LastMain.LastMain.DualNumbers.Dual{T<:Real}} at C:\\Users\\awf\\.julia\\v0.4\\DualNumbers\\src\\dual.jl:111.\n",
        "To fix, define \n",
        "    islessTuple{DualNumbers.Dual{T<:Real},LastMain.LastMain.LastMain.LastMain.DualNumbers.Dual{T<:Real}}\n",
        "before the new definition.\n",
        "Warning: New definition \n",
        "    islessTuple{DualNumbers.Dual{T<:Real},Number} at C:\\Users\\awf\\.julia\\v0.4\\DualNumbers\\src\\dual.jl:112\n",
        "is ambiguous with: \n",
        "    islessTuple{Number,LastMain.LastMain.LastMain.DualNumbers.Dual{T<:Real}} at C:\\Users\\awf\\.julia\\v0.4\\DualNumbers\\src\\dual.jl:111.\n",
        "To fix, define \n",
        "    islessTuple{DualNumbers.Dual{T<:Real},LastMain.LastMain.LastMain.DualNumbers.Dual{T<:Real}}\n",
        "before the new definition.\n",
        "Warning: New definition \n",
        "    islessTuple{DualNumbers.Dual{T<:Real},Number} at C:\\Users\\awf\\.julia\\v0.4\\DualNumbers\\src\\dual.jl:112\n",
        "is ambiguous with: \n",
        "    islessTuple{Number,LastMain.LastMain.DualNumbers.Dual{T<:Real}} at C:\\Users\\awf\\.julia\\v0.4\\DualNumbers\\src\\dual.jl:111.\n",
        "To fix, define \n",
        "    islessTuple{DualNumbers.Dual{T<:Real},LastMain.LastMain.DualNumbers.Dual{T<:Real}}\n",
        "before the new definition.\n",
        "Warning: New definition \n",
        "    islessTuple{DualNumbers.Dual{T<:Real},Number} at C:\\Users\\awf\\.julia\\v0.4\\DualNumbers\\src\\dual.jl:112\n",
        "is ambiguous with: \n",
        "    islessTuple{Number,LastMain.DualNumbers.Dual{T<:Real}} at C:\\Users\\awf\\.julia\\v0.4\\DualNumbers\\src\\dual.jl:111.\n",
        "To fix, define \n",
        "    islessTuple{DualNumbers.Dual{T<:Real},LastMain.DualNumbers.Dual{T<:Real}}\n",
        "before the new definition.\n",
        "Warning: New definition \n",
        "    +Tuple{Number,DualNumbers.Dual{T<:Real}} at C:\\Users\\awf\\.julia\\v0.4\\DualNumbers\\src\\dual.jl:128\n",
        "is ambiguous with: \n",
        "    +Tuple{LastMain.LastMain.LastMain.LastMain.LastMain.LastMain.DualNumbers.Dual{T<:Real},Number} at C:\\Users\\awf\\.julia\\v0.4\\DualNumbers\\src\\dual.jl:129.\n",
        "To fix, define \n",
        "    +Tuple{LastMain.LastMain.LastMain.LastMain.LastMain.LastMain.DualNumbers.Dual{T<:Real},DualNumbers.Dual{T<:Real}}\n",
        "before the new definition.\n",
        "Warning: New definition \n",
        "    +Tuple{Number,DualNumbers.Dual{T<:Real}} at C:\\Users\\awf\\.julia\\v0.4\\DualNumbers\\src\\dual.jl:128\n",
        "is ambiguous with: \n",
        "    +Tuple{LastMain.LastMain.LastMain.LastMain.DualNumbers.Dual{T<:Real},Number} at C:\\Users\\awf\\.julia\\v0.4\\DualNumbers\\src\\dual.jl:129.\n",
        "To fix, define \n",
        "    +Tuple{LastMain.LastMain.LastMain.LastMain.DualNumbers.Dual{T<:Real},DualNumbers.Dual{T<:Real}}\n",
        "before the new definition.\n",
        "Warning: New definition \n",
        "    +Tuple{Number,DualNumbers.Dual{T<:Real}} at C:\\Users\\awf\\.julia\\v0.4\\DualNumbers\\src\\dual.jl:128\n",
        "is ambiguous with: \n",
        "    +Tuple{LastMain.LastMain.LastMain.DualNumbers.Dual{T<:Real},Number} at C:\\Users\\awf\\.julia\\v0.4\\DualNumbers\\src\\dual.jl:129.\n",
        "To fix, define \n",
        "    +Tuple{LastMain.LastMain.LastMain.DualNumbers.Dual{T<:Real},DualNumbers.Dual{T<:Real}}\n",
        "before the new definition.\n",
        "Warning: New definition \n",
        "    +Tuple{Number,DualNumbers.Dual{T<:Real}} at C:\\Users\\awf\\.julia\\v0.4\\DualNumbers\\src\\dual.jl:128\n",
        "is ambiguous with: \n",
        "    +Tuple{LastMain.LastMain.DualNumbers.Dual{T<:Real},Number} at C:\\Users\\awf\\.julia\\v0.4\\DualNumbers\\src\\dual.jl:129.\n",
        "To fix, define \n",
        "    +Tuple{LastMain.LastMain.DualNumbers.Dual{T<:Real},DualNumbers.Dual{T<:Real}}\n",
        "before the new definition.\n",
        "Warning: New definition \n",
        "    +Tuple{Number,DualNumbers.Dual{T<:Real}} at C:\\Users\\awf\\.julia\\v0.4\\DualNumbers\\src\\dual.jl:128\n",
        "is ambiguous with: \n",
        "    +Tuple{LastMain.DualNumbers.Dual{T<:Real},Number} at C:\\Users\\awf\\.julia\\v0.4\\DualNumbers\\src\\dual.jl:129.\n",
        "To fix, define \n",
        "    +Tuple{LastMain.DualNumbers.Dual{T<:Real},DualNumbers.Dual{T<:Real}}\n",
        "before the new definition.\n",
        "Warning: New definition \n",
        "    +Tuple{DualNumbers.Dual{T<:Real},Number} at C:\\Users\\awf\\.julia\\v0.4\\DualNumbers\\src\\dual.jl:129\n",
        "is ambiguous with: \n",
        "    +Tuple{Number,LastMain.LastMain.LastMain.LastMain.LastMain.LastMain.DualNumbers.Dual{T<:Real}} at C:\\Users\\awf\\.julia\\v0.4\\DualNumbers\\src\\dual.jl:128.\n",
        "To fix, define \n",
        "    +Tuple{DualNumbers.Dual{T<:Real},LastMain.LastMain.LastMain.LastMain.LastMain.LastMain.DualNumbers.Dual{T<:Real}}\n",
        "before the new definition.\n",
        "Warning: New definition \n",
        "    +Tuple{DualNumbers.Dual{T<:Real},Number} at C:\\Users\\awf\\.julia\\v0.4\\DualNumbers\\src\\dual.jl:129\n",
        "is ambiguous with: \n",
        "    +Tuple{Number,LastMain.LastMain.LastMain.LastMain.DualNumbers.Dual{T<:Real}} at C:\\Users\\awf\\.julia\\v0.4\\DualNumbers\\src\\dual.jl:128.\n",
        "To fix, define \n",
        "    +Tuple{DualNumbers.Dual{T<:Real},LastMain.LastMain.LastMain.LastMain.DualNumbers.Dual{T<:Real}}\n",
        "before the new definition.\n",
        "Warning: New definition \n",
        "    +Tuple{DualNumbers.Dual{T<:Real},Number} at C:\\Users\\awf\\.julia\\v0.4\\DualNumbers\\src\\dual.jl:129\n",
        "is ambiguous with: \n",
        "    +Tuple{Number,LastMain.LastMain.LastMain.DualNumbers.Dual{T<:Real}} at C:\\Users\\awf\\.julia\\v0.4\\DualNumbers\\src\\dual.jl:128.\n",
        "To fix, define \n",
        "    +Tuple{DualNumbers.Dual{T<:Real},LastMain.LastMain.LastMain.DualNumbers.Dual{T<:Real}}\n",
        "before the new definition.\n",
        "Warning: New definition \n",
        "    +Tuple{DualNumbers.Dual{T<:Real},Number} at C:\\Users\\awf\\.julia\\v0.4\\DualNumbers\\src\\dual.jl:129\n",
        "is ambiguous with: \n",
        "    +Tuple{Number,LastMain.LastMain.DualNumbers.Dual{T<:Real}} at C:\\Users\\awf\\.julia\\v0.4\\DualNumbers\\src\\dual.jl:128.\n",
        "To fix, define \n",
        "    +Tuple{DualNumbers.Dual{T<:Real},LastMain.LastMain.DualNumbers.Dual{T<:Real}}\n",
        "before the new definition.\n",
        "Warning: New definition \n",
        "    +Tuple{DualNumbers.Dual{T<:Real},Number} at C:\\Users\\awf\\.julia\\v0.4\\DualNumbers\\src\\dual.jl:129\n",
        "is ambiguous with: \n",
        "    +Tuple{Number,LastMain.DualNumbers.Dual{T<:Real}} at C:\\Users\\awf\\.julia\\v0.4\\DualNumbers\\src\\dual.jl:128.\n",
        "To fix, define \n",
        "    +Tuple{DualNumbers.Dual{T<:Real},LastMain.DualNumbers.Dual{T<:Real}}\n",
        "before the new definition.\n",
        "Warning: New definition \n",
        "    -Tuple{Number,DualNumbers.Dual{T<:Real}} at C:\\Users\\awf\\.julia\\v0.4\\DualNumbers\\src\\dual.jl:133\n",
        "is ambiguous with: \n",
        "    -Tuple{LastMain.LastMain.LastMain.LastMain.LastMain.LastMain.DualNumbers.Dual{T<:Real},Number} at C:\\Users\\awf\\.julia\\v0.4\\DualNumbers\\src\\dual.jl:134.\n",
        "To fix, define \n",
        "    -Tuple{LastMain.LastMain.LastMain.LastMain.LastMain.LastMain.DualNumbers.Dual{T<:Real},DualNumbers.Dual{T<:Real}}\n",
        "before the new definition.\n",
        "Warning: New definition \n",
        "    -Tuple{Number,DualNumbers.Dual{T<:Real}} at C:\\Users\\awf\\.julia\\v0.4\\DualNumbers\\src\\dual.jl:133\n",
        "is ambiguous with: \n",
        "    -Tuple{LastMain.LastMain.LastMain.LastMain.DualNumbers.Dual{T<:Real},Number} at C:\\Users\\awf\\.julia\\v0.4\\DualNumbers\\src\\dual.jl:134.\n",
        "To fix, define \n",
        "    -Tuple{LastMain.LastMain.LastMain.LastMain.DualNumbers.Dual{T<:Real},DualNumbers.Dual{T<:Real}}\n",
        "before the new definition.\n",
        "Warning: New definition \n",
        "    -Tuple{Number,DualNumbers.Dual{T<:Real}} at C:\\Users\\awf\\.julia\\v0.4\\DualNumbers\\src\\dual.jl:133\n",
        "is ambiguous with: \n",
        "    -Tuple{LastMain.LastMain.LastMain.DualNumbers.Dual{T<:Real},Number} at C:\\Users\\awf\\.julia\\v0.4\\DualNumbers\\src\\dual.jl:134.\n",
        "To fix, define \n",
        "    -Tuple{LastMain.LastMain.LastMain.DualNumbers.Dual{T<:Real},DualNumbers.Dual{T<:Real}}\n",
        "before the new definition.\n",
        "Warning: New definition \n",
        "    -Tuple{Number,DualNumbers.Dual{T<:Real}} at C:\\Users\\awf\\.julia\\v0.4\\DualNumbers\\src\\dual.jl:133\n",
        "is ambiguous with: \n",
        "    -Tuple{LastMain.LastMain.DualNumbers.Dual{T<:Real},Number} at C:\\Users\\awf\\.julia\\v0.4\\DualNumbers\\src\\dual.jl:134.\n",
        "To fix, define \n",
        "    -Tuple{LastMain.LastMain.DualNumbers.Dual{T<:Real},DualNumbers.Dual{T<:Real}}\n",
        "before the new definition.\n",
        "Warning: New definition \n",
        "    -Tuple{Number,DualNumbers.Dual{T<:Real}} at C:\\Users\\awf\\.julia\\v0.4\\DualNumbers\\src\\dual.jl:133\n",
        "is ambiguous with: \n",
        "    -Tuple{LastMain.DualNumbers.Dual{T<:Real},Number} at C:\\Users\\awf\\.julia\\v0.4\\DualNumbers\\src\\dual.jl:134.\n",
        "To fix, define \n",
        "    -Tuple{LastMain.DualNumbers.Dual{T<:Real},DualNumbers.Dual{T<:Real}}\n",
        "before the new definition.\n",
        "Warning: New definition \n",
        "    -Tuple{DualNumbers.Dual{T<:Real},Number} at C:\\Users\\awf\\.julia\\v0.4\\DualNumbers\\src\\dual.jl:134\n",
        "is ambiguous with: \n",
        "    -Tuple{Number,LastMain.LastMain.LastMain.LastMain.LastMain.LastMain.DualNumbers.Dual{T<:Real}} at C:\\Users\\awf\\.julia\\v0.4\\DualNumbers\\src\\dual.jl:133.\n",
        "To fix, define \n",
        "    -Tuple{DualNumbers.Dual{T<:Real},LastMain.LastMain.LastMain.LastMain.LastMain.LastMain.DualNumbers.Dual{T<:Real}}\n",
        "before the new definition.\n",
        "Warning: New definition \n",
        "    -Tuple{DualNumbers.Dual{T<:Real},Number} at C:\\Users\\awf\\.julia\\v0.4\\DualNumbers\\src\\dual.jl:134\n",
        "is ambiguous with: \n",
        "    -Tuple{Number,LastMain.LastMain.LastMain.LastMain.DualNumbers.Dual{T<:Real}} at C:\\Users\\awf\\.julia\\v0.4\\DualNumbers\\src\\dual.jl:133.\n",
        "To fix, define \n",
        "    -Tuple{DualNumbers.Dual{T<:Real},LastMain.LastMain.LastMain.LastMain.DualNumbers.Dual{T<:Real}}\n",
        "before the new definition.\n",
        "Warning: New definition \n",
        "    -Tuple{DualNumbers.Dual{T<:Real},Number} at C:\\Users\\awf\\.julia\\v0.4\\DualNumbers\\src\\dual.jl:134\n",
        "is ambiguous with: \n",
        "    -Tuple{Number,LastMain.LastMain.LastMain.DualNumbers.Dual{T<:Real}} at C:\\Users\\awf\\.julia\\v0.4\\DualNumbers\\src\\dual.jl:133.\n",
        "To fix, define \n",
        "    -Tuple{DualNumbers.Dual{T<:Real},LastMain.LastMain.LastMain.DualNumbers.Dual{T<:Real}}\n",
        "before the new definition.\n",
        "Warning: New definition \n",
        "    -Tuple{DualNumbers.Dual{T<:Real},Number} at C:\\Users\\awf\\.julia\\v0.4\\DualNumbers\\src\\dual.jl:134\n",
        "is ambiguous with: \n",
        "    -Tuple{Number,LastMain.LastMain.DualNumbers.Dual{T<:Real}} at C:\\Users\\awf\\.julia\\v0.4\\DualNumbers\\src\\dual.jl:133.\n",
        "To fix, define \n",
        "    -Tuple{DualNumbers.Dual{T<:Real},LastMain.LastMain.DualNumbers.Dual{T<:Real}}\n",
        "before the new definition.\n",
        "Warning: New definition \n",
        "    -Tuple{DualNumbers.Dual{T<:Real},Number} at C:\\Users\\awf\\.julia\\v0.4\\DualNumbers\\src\\dual.jl:134\n",
        "is ambiguous with: \n",
        "    -Tuple{Number,LastMain.DualNumbers.Dual{T<:Real}} at C:\\Users\\awf\\.julia\\v0.4\\DualNumbers\\src\\dual.jl:133.\n",
        "To fix, define \n",
        "    -Tuple{DualNumbers.Dual{T<:Real},LastMain.DualNumbers.Dual{T<:Real}}"
       ]
      },
      {
       "metadata": {},
       "output_type": "pyout",
       "prompt_number": 63,
       "text": [
        "Array{Float64,2}"
       ]
      },
      {
       "output_type": "stream",
       "stream": "stderr",
       "text": [
        "\n",
        "before the new definition.\n"
       ]
      }
     ],
     "prompt_number": 63
    },
    {
     "cell_type": "code",
     "collapsed": false,
     "input": [
      "sumsq(x::Vec) = dot(x,x)\n",
      "\n",
      "function ardiff_code(f::Function, sig::Tuple; order::Int=1, evalmod=Main, debug=false, allorders=true)\n",
      "    fs = methods(f, map( typeof, sig ))\n",
      "    length(fs) == 0 && error(\"ardiff: no function '$f' found for signature $sig\")\n",
      "    length(fs) > 1  && error(\"ardiff: several functions $f found for signature $sig\")  # is that possible ?\n",
      "\n",
      "    fdef  = fs[1].func.code\n",
      "    fcode = Base.uncompressed_ast(fdef)\n",
      "    fargs = fcode.args[1]  # function parameters\n",
      "\n",
      "    cargs = [ (fargs[i], sig[i]) for i in 1:length(sig) ]\n",
      "    expr = ReverseDiffSource.streamline(fcode.args[3])\n",
      "    expr,cargs\n",
      "end\n",
      "\n",
      "function ardiff(f::Function, sig::Tuple; order::Int=1, evalmod=Main, debug=false, allorders=true)\n",
      "    expr,cargs = ardiff_code(f, sig)\n",
      "    if true\n",
      "        dex = rdiff(expr; order=order, evalmod=evalmod, debug=debug, allorders=allorders, cargs...)\n",
      "    else\n",
      "        ReverseDiffSource.tograph(expr, Main)\n",
      "    end\n",
      "end\n",
      "\n",
      "\n",
      "#f = rdiff(sumsq, (zeros(3),))\n",
      "\n",
      "#d_sumsq(x) = f(x)[2]\n",
      "\n",
      "@deriv_rule sumsq(x)   x   2x*ds"
     ],
     "language": "python",
     "metadata": {},
     "outputs": [],
     "prompt_number": 57
    },
    {
     "cell_type": "code",
     "collapsed": false,
     "input": [
      "#x = round(Integer, 1000*rand(3))/1000\n",
      "#fx = f(x)\n",
      "#@printf(\"x = %s, fval = %f, grad = %s\\n\", x, fx[1], fx[2])\n",
      "\n",
      "M  = ReverseDiffSource\n",
      "M.resetvar()\n",
      "outsym = nothing\n",
      "\n",
      "#rdiff(:(sumsq(3x.^2) + 5), x=zeros(3))\n",
      "ex = :(dot(x, x.^2 + 4v))\n",
      "g = M.tograph(ex)\n",
      "M.addnode!(g, M.NExt(:z))\n",
      "g.seti = M.NSMap([M.getnode(g.seti, outsym)], [ outsym ])    \n",
      "\n",
      "g |> M.splitnary! |> M.prune! |> M.simplify!\n",
      "\n",
      "paramsym = Symbol[:x, :v]\n",
      "parval = [0., [0.; 0.]]\n",
      "\n",
      "M.calc!(g, params=Dict(zip(paramsym, parval)), emod=Main)\n",
      "\n",
      "ov = M.getnode(g.seti, outsym).val \n",
      "isa(ov, Real) || error(\"output var should be a Real, $(typeof(ov)) found\")\n",
      "voi = Any[ outsym ]\n",
      "\n",
      "outnode = M.getnode(g.seti, outsym)\n",
      "dg = M.reversegraph(g, outnode, paramsym)\n",
      "append!(g.nodes, dg.nodes)\n",
      "\n",
      "for p in paramsym\n",
      "    nn = M.getnode(dg.seti, M.dprefix(p))  # find the exit node of deriv of p\n",
      "    ns = M.newvar(\"_dv\")\n",
      "    g.seti[nn] = ns\n",
      "    push!(voi, ns)\n",
      "end\n",
      "\n",
      "dg\n"
     ],
     "language": "python",
     "metadata": {},
     "outputs": [
      {
       "output_type": "stream",
       "stream": "stderr",
       "text": [
        "WARNING: [a,b] concatenation is deprecated; use [a;b] instead"
       ]
      },
      {
       "output_type": "stream",
       "stream": "stderr",
       "text": [
        "\n",
        " in depwarn at deprecated.jl:40\n",
        " in oldstyle_vcat_warning at abstractarray.jl:26\n",
        " in vect at abstractarray.jl:35\n",
        " in include_string at loading.jl:98\n",
        " in execute_request_0x535c5df2 at C:\\Users\\awf\\.julia\\v0.4\\IJulia\\src\\execute_request.jl:157\n",
        " in eventloop at C:\\Users\\awf\\.julia\\v0.4\\IJulia\\src\\IJulia.jl:123\n",
        " in anonymous at task.jl:363\n"
       ]
      },
      {
       "metadata": {},
       "output_type": "pyout",
       "prompt_number": 3,
       "text": [
        "node | symbol | ext ? | type       | parents       | precedence | main  | value         | \n",
        "---- | ------ | ----- | ---------- | ------------- | ---------- | ----- | ------------- | \n",
        "1    |        |       | [constant] |               |            | 0.0   | (Float64) NaN | \n",
        "2    |        |       | [constant] |               |            | 0.0   | (Float64) NaN | \n",
        "3    |        |       | [constant] |               |            | 0.0   | (Float64) NaN | \n",
        "4    |        |       | [constant] |               |            | 0.0   | (Float64) NaN | \n",
        "5    |        |       | [constant] |               |            | 0.0   | (Float64) NaN | \n",
        "6    |        |       | [constant] |               |            | 0.0   | (Float64) NaN | \n",
        "7    |        |       | [constant] |               |            | 0.0   | (Float64) NaN | \n",
        "8    |        |       | [constant] |               |            | 0.0   | (Float64) NaN | \n",
        "9    |        |       | [constant] |               |            | 0.0   | (Float64) NaN | \n",
        "10   |        |       | [constant] |               |            | 0.0   | (Float64) NaN | \n",
        "11   |        |       | [constant] |               |            | 0.0   | (Float64) NaN | \n",
        "12   |        |       | [constant] |               |            | 1.0   | (Float64) NaN | \n",
        "13   |        |       | [constant] |               |            | *     | (Float64) NaN | \n",
        "14   |        |       | [call]     | 13, 0, 12     |            | :call | (Float64) NaN | \n",
        "15   |        |       | [constant] |               |            | +     | (Float64) NaN | \n",
        "16   |        |       | [call]     | 15, 6, 14     |            | :call | (Float64) NaN | \n",
        "17   |        |       | [constant] |               |            | *     | (Float64) NaN | \n",
        "18   |        |       | [call]     | 17, 0, 12     |            | :call | (Float64) NaN | \n",
        "19   |        |       | [constant] |               |            | +     | (Float64) NaN | \n",
        "20   |        |       | [call]     | 19, 11, 18    |            | :call | (Float64) NaN | \n",
        "21   |        |       | [constant] |               |            | +     | (Float64) NaN | \n",
        "22   |        |       | [call]     | 21, 9, 20     |            | :call | (Float64) NaN | \n",
        "23   |        |       | [constant] |               |            | +     | (Float64) NaN | \n",
        "24   |        |       | [call]     | 23, 10, 20    |            | :call | (Float64) NaN | \n",
        "25   |        |       | [constant] |               |            | *     | (Float64) NaN | \n",
        "26   |        |       | [call]     | 25, 0, 24     |            | :call | (Float64) NaN | \n",
        "27   |        |       | [constant] |               |            | +     | (Float64) NaN | \n",
        "28   | dv <<  |       | [call]     | 27, 7, 26     |            | :call | (Float64) NaN | \n",
        "29   |        |       | [constant] |               |            | ^     | (Float64) NaN | \n",
        "30   |        |       | [constant] |               |            | *     | (Float64) NaN | \n",
        "31   |        |       | [constant] |               |            | -     | (Float64) NaN | \n",
        "32   |        |       | [constant] |               |            | 1     | (Float64) NaN | \n",
        "33   |        |       | [call]     | 31, 0, 32     |            | :call | (Float64) NaN | \n",
        "34   |        |       | [call]     | 29, 0, 33     |            | :call | (Float64) NaN | \n",
        "35   |        |       | [call]     | 30, 0, 34, 22 |            | :call | (Float64) NaN | \n",
        "36   |        |       | [constant] |               |            | +     | (Float64) NaN | \n",
        "37   | dx <<  |       | [call]     | 36, 16, 35    |            | :call | (Float64) NaN | \n"
       ]
      }
     ],
     "prompt_number": 3
    },
    {
     "cell_type": "code",
     "collapsed": false,
     "input": [
      "\n",
      "\n",
      "g |> splitnary! |> prune! |> simplify!\n",
      "\n",
      "if length(voi) > 1  # create tuple if multiple variables\n",
      "    voin = map( s -> getnode(g.seti, s), voi )\n",
      "    nf = addnode!(g, NConst(tuple))\n",
      "    exitnode = addnode!(g, NCall(:call, [nf, voin...]))\n",
      "else\n",
      "    exitnode = getnode(g.seti, voi[1])\n",
      "end\n",
      "g.seti = NSMap( [exitnode], [nothing])  # make this the only exitnode of interest\n",
      "\n",
      "g |> splitnary! |> prune! |> simplify!\n",
      "\n",
      "resetvar()\n",
      "debug ? g : tocode(g)"
     ],
     "language": "python",
     "metadata": {},
     "outputs": [
      {
       "ename": "LoadError",
       "evalue": "LoadError: UndefVarError: splitnary! not defined\nwhile loading In[4], in expression starting on line 3",
       "output_type": "pyerr",
       "traceback": [
        "LoadError: UndefVarError: splitnary! not defined\nwhile loading In[4], in expression starting on line 3",
        ""
       ]
      }
     ],
     "prompt_number": 4
    },
    {
     "cell_type": "code",
     "collapsed": false,
     "input": [
      "rosenbrock(x::Float64,y::Float64) = sumsq(vcat(1 - x, 10*(x - y^2)))\n",
      "rosenbrock_diff = rdiff(rosenbrock, (0.,0.))\n",
      "rosenbrock_diff(1.,2.)\n",
      "\n",
      "rosenbrockN_ex = :((1 - x[1])^2 + 100*sumsq(x[2:end] - x[1:end-1].^2))\n",
      "rdiff(rosenbrockN_ex, x=zeros(4))"
     ],
     "language": "python",
     "metadata": {},
     "outputs": [
      {
       "metadata": {},
       "output_type": "pyout",
       "prompt_number": 5,
       "text": [
        "quote \n",
        "    _tmp1 = length(x)\n",
        "    _tmp2 = 2:_tmp1\n",
        "    _tmp3 = zeros(size(x))\n",
        "    _tmp4 = 1:_tmp1 - 1\n",
        "    _tmp5 = 1 - x[1]\n",
        "    _tmp6 = x[_tmp4] .^ 2\n",
        "    _tmp7 = x[_tmp2] - _tmp6\n",
        "    _tmp8 = zeros(size(_tmp7)) + (2_tmp7) * 100.0\n",
        "    _tmp3[_tmp4] = zeros(size(x[_tmp4])) + (2 * x[_tmp4]) .* (zeros(size(_tmp6)) + -_tmp8)\n",
        "    _tmp3[_tmp2] = _tmp3[_tmp2] + (zeros(size(x[_tmp2])) + _tmp8)\n",
        "    _tmp3[1] = _tmp3[1] + -(2_tmp5)\n",
        "    (_tmp5 ^ 2 + 100 * sumsq(_tmp7),_tmp3)\n",
        "end"
       ]
      }
     ],
     "prompt_number": 5
    },
    {
     "cell_type": "code",
     "collapsed": false,
     "input": [
      "function mahal(L::Mat, mu::Vec, x::Vec)\n",
      "    sumsq(L*(x-mu))\n",
      "end\n",
      "\n",
      "@deriv_rule sumsq(x::Vec) x 2x*ds\n",
      "\n",
      "#dummy\n",
      "function dmahal1(L::Mat,mu::Vec,x::Vec)\n",
      "    (mahal(L,mu,x), L,mu,x)\n",
      "end\n",
      "\n",
      "@eval :(function dmahal2(L::Mat,mu::Vec,x::Vec)\n",
      "    (mahal(L,mu,x), L,mu,x)\n",
      "end)\n",
      "\n",
      "ex = ardiff(mahal, (ones(3,3), ones(3), zeros(3)))\n",
      "@printf(\"ex=%s\\n\", ex)\n",
      "@eval :(function dmahal3(L::Mat,mu::Vec,x::Vec) ex end)\n",
      "dmahal3(ones(3,3), ones(3), zeros(3))\n",
      "\n",
      "dmahal3\n",
      "#Base.function_module(dmahal3, (Mat,Vec,Vec))\n"
     ],
     "language": "python",
     "metadata": {},
     "outputs": [
      {
       "output_type": "stream",
       "stream": "stdout",
       "text": [
        "ex="
       ]
      },
      {
       "output_type": "stream",
       "stream": "stdout",
       "text": [
        "begin \n",
        "    _tmp1 = x - mu\n",
        "    _tmp2 = L * _tmp1\n",
        "    _tmp3 = zeros(size(_tmp2)) + 2_tmp2\n",
        "    _tmp4 = zeros(size(_tmp1)) + L' * _tmp3\n",
        "    (sumsq(_tmp2),zeros(size(L)) + _tmp3 * _tmp1',zeros(size(mu)) + -_tmp4,zeros(size(x)) + _tmp4)\n",
        "end\n"
       ]
      },
      {
       "metadata": {},
       "output_type": "pyout",
       "prompt_number": 65,
       "text": [
        "(anonymous function)"
       ]
      }
     ],
     "prompt_number": 65
    },
    {
     "cell_type": "code",
     "collapsed": false,
     "input": [
      "\n",
      "@deriv_rule mahal(L::Mat, mu::Vec, x::Vec) L dmahal3(L,mu,x)[2]*ds\n",
      "@deriv_rule mahal(L::Mat, mu::Vec, x::Vec) mu dmahal3(L,mu,x)[3]*ds\n",
      "@deriv_rule mahal(L::Mat, mu::Vec, x::Vec) x dmahal3(L,mu,x)[4]*ds\n",
      "\n",
      "@deriv_rule diagm(x::Vec) x diag(ds)\n",
      "\n",
      "@deriv_rule hcat(x::Real,y::Real,z::Real) x ds[1]\n",
      "@deriv_rule hcat(x::Real,y::Real,z::Real) y ds[2]\n",
      "@deriv_rule hcat(x::Real,y::Real,z::Real) z ds[3]\n",
      "\n",
      "function mahal_pvec(v::Vec)\n",
      "    Ltri = [[0 0 0]; [v[4] 0 0]; [v[5] v[6] 0]]\n",
      "    L = diagm(exp(v[1:3])) + Ltri\n",
      "    mu = v[7:9]\n",
      "    x = v[10:12]\n",
      "    mahal(L, mu, x)\n",
      "end\n",
      "\n",
      "@printf(\"%s\\n\", mahal_pvec(Vec([Float64(v) for v = 1:12])))\n",
      "\n",
      "sig0 = (zeros(12),)\n",
      "f2 = rdiff(mahal_pvec, sig0)\n",
      "@printf(\"diff= %s\\n\", Base.uncompressed_ast(f2.code))\n",
      "f2(sig0...)"
     ],
     "language": "python",
     "metadata": {},
     "outputs": [
      {
       "output_type": "stream",
       "stream": "stdout",
       "text": [
        "9930"
       ]
      },
      {
       "output_type": "stream",
       "stream": "stdout",
       "text": [
        ".692346537453\n"
       ]
      },
      {
       "ename": "LoadError",
       "evalue": "LoadError: [tocode] cannot find module of (anonymous function) (Function), n=[call] :call (NaN), from = (anonymous function) / :call / :getidx / :getidx, fptr=Ptr{Void} @0x000000000246d1c0, err=[ErrorException(\"no matching methods\")]\nwhile loading In[26], in expression starting on line 23",
       "output_type": "pyerr",
       "traceback": [
        "LoadError: [tocode] cannot find module of (anonymous function) (Function), n=[call] :call (NaN), from = (anonymous function) / :call / :getidx / :getidx, fptr=Ptr{Void} @0x000000000246d1c0, err=[ErrorException(\"no matching methods\")]\nwhile loading In[26], in expression starting on line 23",
        "",
        " in error at error.jl:19"
       ]
      }
     ],
     "prompt_number": 26
    },
    {
     "cell_type": "code",
     "collapsed": false,
     "input": [
      "code = ardiff_code(mahal_pvec, sig0)\n",
      "@printf(\"code= [%s]\\n\", code)\n",
      "code = ReverseDiffSource.streamline(code)\n",
      "@printf(\"strmcode= [%s]\\n\", code)\n",
      "@printf(\"strmcode= [%s]\\n\", ReverseDiffSource.e2s(code))"
     ],
     "language": "python",
     "metadata": {},
     "outputs": [
      {
       "output_type": "stream",
       "stream": "stdout",
       "text": [
        "Ptr"
       ]
      },
      {
       "output_type": "stream",
       "stream": "stdout",
       "text": [
        "{Void} @0x000000001229ad20 anonymous\n",
        "begin  # C:\\Users\\awf\\.julia\\v0.4\\ReverseDiffSource\\src\\frdiff.jl, line 26:\n",
        "    _tmp1 = x - mu\n",
        "    _tmp2 = L * _tmp1\n",
        "    _tmp3 = zeros(size(_tmp2)) + 2_tmp2\n",
        "    _tmp4 = zeros(size(_tmp1)) + Ac_mul_B(L,_tmp3)\n",
        "    return (top(tuple))(sumsq(_tmp2),zeros(size(L)) + A_mul_Bc(_tmp3,_tmp1),zeros(size(mu)) + -_tmp4,zeros(size(x)) + _tmp4)\n",
        "end9930.692346537453\n",
        "code= [begin \n",
        "    Ltri = vcat(hcat(0,0,0),hcat(getindex(v,4),0,0),hcat(getindex(v,5),getindex(v,6),0))\n",
        "    L = diagm(exp(getindex(v,colon(1,3)))) + Ltri\n",
        "    mu = getindex(v,colon(7,9))\n",
        "    x = getindex(v,colon(10,12))\n",
        "    return mahal(L,mu,x)\n",
        "end]\n",
        "strmcode= [begin \n",
        "    Ltri = vcat(hcat(0,0,0),hcat(getindex(v,4),0,0),hcat(getindex(v,5),getindex(v,6),0))\n",
        "    L = diagm(exp(getindex(v,colon(1,3)))) + Ltri\n",
        "    mu = getindex(v,colon(7,9))\n",
        "    x = getindex(v,colon(10,12))\n",
        "    return mahal(L,mu,x)\n",
        "end]\n",
        "strmcode= [\u2191=\u2192:Ltri\u2192\u2191call\u2192:vcat\u2192\u2191call\u2192:hcat\u21920\u21920\u21920\u2193\u2192\u2191call\u2192:hcat\u2192\u2191call\u2192:getindex\u2192:v\u21924\u2193\u21920\u21920\u2193\u2192\u2191call\u2192:hcat\u2192\u2191call\u2192:getindex\u2192:v\u21925\u2193\u2192\u2191call\u2192:getindex\u2192:v\u21926\u2193\u21920\u2193\u2193\u2193\u2191=\u2192:L\u2192\u2191call\u2192:+\u2192\u2191call\u2192:diagm\u2192\u2191call\u2192:exp\u2192\u2191call\u2192:getindex\u2192:v\u2192\u2191call\u2192:colon\u21921\u21923\u2193\u2193\u2193\u2193\u2192:Ltri\u2193\u2193\u2191=\u2192:mu\u2192\u2191call\u2192:getindex\u2192:v\u2192\u2191call\u2192:colon\u21927\u21929\u2193\u2193\u2193\u2191=\u2192:x\u2192\u2191call\u2192:getindex\u2192:v\u2192\u2191call\u2192:colon\u219210\u219212\u2193\u2193\u2193\u2191return\u2192\u2191call\u2192:mahal\u2192:L\u2192:mu\u2192:x\u2193\u2193]\n"
       ]
      },
      {
       "ename": "LoadError",
       "evalue": "LoadError: no function '(anonymous function)' found for signature ([0.0,0.0,0.0,0.0,0.0,0.0,0.0,0.0,0.0,0.0,0.0,0.0],)\nwhile loading In[117], in expression starting on line 34",
       "output_type": "pyerr",
       "traceback": [
        "LoadError: no function '(anonymous function)' found for signature ([0.0,0.0,0.0,0.0,0.0,0.0,0.0,0.0,0.0,0.0,0.0,0.0],)\nwhile loading In[117], in expression starting on line 34",
        "",
        " in error at error.jl:19"
       ]
      }
     ],
     "prompt_number": 117
    },
    {
     "cell_type": "code",
     "collapsed": false,
     "input": [
      "@deriv_rule mahal xs rdiff(mahal_pvec, sig0)[2]\n",
      "\n",
      "rdiff(mahal_pvec, sig0)\n",
      "\n",
      "# This one not so good: unmanaged type int\n",
      "#lla(alphas::Vec) = log_likelihood_mat(alphas, hcat(g.mus...), hcat(g.LDs...), hcat(g.LTs...), x)\n",
      "#dx = rdiff(lla, alphas=g.alphas)\n",
      "#dx([-1,-248,-240,-1,-2])\n",
      "\n",
      "#Pkg.dir(\"ReverseDiffSource\")\n",
      "#           Query(\n",
      "\n",
      "# abstract Visitor\n",
      "\n",
      "# type myvisitor <: Visitor\n",
      "#   index::Int64\n",
      "\n",
      "#   myvisitor() = new(0)\n",
      "# end\n",
      "\n",
      "# v = myvisitor()\n",
      "\n",
      "# function visit(v::myvisitor, obj::Number)\n",
      "#   ++v.index\n",
      "#   println(v)\n",
      "# end\n",
      "\n",
      "# function visit(v::Visitor, obj::Any)\n",
      "#   fields = names(obj)\n",
      "#   if length(fields) == 0\n",
      "#     println(\"Cannot handle a [\", typeof(obj), \"]\")\n",
      "#   else\n",
      "#     for n in names(obj)\n",
      "#       visit(v, obj.(n))\n",
      "#     end\n",
      "#   end\n",
      "# end\n",
      "\n",
      "# visit(v, gmm_test)\n",
      "\n",
      "# methods(Array)\n"
     ],
     "language": "python",
     "metadata": {},
     "outputs": [
      {
       "ename": "LoadError",
       "evalue": "LoadError: TypeError: anonymous: in typeassert, expected Expr, got Symbol\nwhile loading In[7], in expression starting on line 2",
       "output_type": "pyerr",
       "traceback": [
        "LoadError: TypeError: anonymous: in typeassert, expected Expr, got Symbol\nwhile loading In[7], in expression starting on line 2",
        ""
       ]
      }
     ],
     "prompt_number": 7
    },
    {
     "cell_type": "code",
     "collapsed": false,
     "input": [
      "1+[2 3]\n"
     ],
     "language": "python",
     "metadata": {},
     "outputs": [
      {
       "metadata": {},
       "output_type": "pyout",
       "prompt_number": 1,
       "text": [
        "1x2 Array{Int64,2}:\n",
        " 3  4"
       ]
      }
     ],
     "prompt_number": 1
    },
    {
     "cell_type": "code",
     "collapsed": false,
     "input": [
      "awfrdiff(:(dot([3;x^2], x+v)), x=0.,v=[0.; 0.])"
     ],
     "language": "python",
     "metadata": {},
     "outputs": [
      {
       "ename": "LoadError",
       "evalue": "LoadError: UndefVarError: awfrdiff not defined\nwhile loading In[23], in expression starting on line 1",
       "output_type": "pyerr",
       "traceback": [
        "LoadError: UndefVarError: awfrdiff not defined\nwhile loading In[23], in expression starting on line 1",
        ""
       ]
      }
     ],
     "prompt_number": 23
    }
   ],
   "metadata": {}
  }
 ]
}