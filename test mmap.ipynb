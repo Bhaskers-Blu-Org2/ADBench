{
 "metadata": {
  "language": "Julia",
  "name": "",
  "signature": "sha256:9467617220f55b4379e98409c9acfb33f030754d1cc49ff849978e46fa83f058"
 },
 "nbformat": 3,
 "nbformat_minor": 0,
 "worksheets": [
  {
   "cells": [
    {
     "cell_type": "code",
     "collapsed": false,
     "input": [
      "    filename = \"/tmp/t.txt\"\n",
      "\n",
      "    sz = filesize(filename)\n",
      "    open(filename) do io\n",
      "        #a = mmap_array(Uint8, (sz,), io)\n",
      "    end\n",
      "\n",
      "    show(\"done1\")\n",
      "    \n",
      "    open(filename, \"w\") do io\n",
      "        write(io, \"xstuff\")\n",
      "    end"
     ],
     "language": "python",
     "metadata": {},
     "outputs": [
      {
       "output_type": "stream",
       "stream": "stdout",
       "text": [
        "\""
       ]
      },
      {
       "output_type": "stream",
       "stream": "stdout",
       "text": [
        "done1\""
       ]
      },
      {
       "ename": "LoadError",
       "evalue": "LoadError: SystemError: opening file /tmp/t.txt: Invalid argument\nwhile loading In[5], in expression starting on line 10",
       "output_type": "pyerr",
       "traceback": [
        "LoadError: SystemError: opening file /tmp/t.txt: Invalid argument\nwhile loading In[5], in expression starting on line 10",
        "",
        " in systemerror at error.jl:32"
       ]
      }
     ],
     "prompt_number": 5
    },
    {
     "cell_type": "code",
     "collapsed": false,
     "input": [
      "stat(\"/tmp/t.txt\")"
     ],
     "language": "python",
     "metadata": {},
     "outputs": [
      {
       "metadata": {},
       "output_type": "pyout",
       "prompt_number": 6,
       "text": [
        "StatStruct(mode=100666, size=5)"
       ]
      }
     ],
     "prompt_number": 6
    },
    {
     "cell_type": "code",
     "collapsed": false,
     "input": [
      "readall(filename)"
     ],
     "language": "python",
     "metadata": {},
     "outputs": [
      {
       "metadata": {},
       "output_type": "pyout",
       "prompt_number": 7,
       "text": [
        "\"stuff\""
       ]
      }
     ],
     "prompt_number": 7
    },
    {
     "cell_type": "code",
     "collapsed": false,
     "input": [],
     "language": "python",
     "metadata": {},
     "outputs": []
    }
   ],
   "metadata": {}
  }
 ]
}