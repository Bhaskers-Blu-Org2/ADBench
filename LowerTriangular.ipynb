{
 "metadata": {
  "language": "Julia",
  "name": "",
  "signature": "sha256:7161dce4a579a63d8960e443a3c1bdeebf114ce322bf33df7a48d025a1444ca0"
 },
 "nbformat": 3,
 "nbformat_minor": 0,
 "worksheets": [
  {
   "cells": [
    {
     "cell_type": "heading",
     "level": 2,
     "metadata": {},
     "source": [
      "Lower triangular matrices"
     ]
    },
    {
     "cell_type": "code",
     "collapsed": false,
     "input": [
      "using Base.Test"
     ],
     "language": "python",
     "metadata": {},
     "outputs": [],
     "prompt_number": 1
    },
    {
     "cell_type": "code",
     "collapsed": false,
     "input": [
      "include(\"MatVec.jl\")"
     ],
     "language": "python",
     "metadata": {},
     "outputs": [
      {
       "metadata": {},
       "output_type": "pyout",
       "prompt_number": 2,
       "text": [
        "sumsq (generic function with 1 method)"
       ]
      }
     ],
     "prompt_number": 2
    },
    {
     "cell_type": "code",
     "collapsed": false,
     "input": [
      "# Make matrix from diagonal and strict lower triangle,\n",
      "# e.g. D = [d11 d22 d33 d44]\n",
      "#      LT = [L21 L31 L32 L41 L42 L43]\n",
      "# Outputting\n",
      "#  [d11   0   0   0]\n",
      "#  [L21 d12   0   0] # row r: Ls starting at sum_i=1^r\n",
      "#  [L31 L32 d33   0]\n",
      "#  [L41 L42 L43 d44]\n",
      "function ltri_unpack(D::Vec, LT::Vec)\n",
      "  d=length(D)\n",
      "  make_row(r::Int, L) = hcat(reshape([ L[i] for i=1:r-1 ],1,r-1), D[r], zeros(1,d-r))\n",
      "  row_start(r::Int) = div((r-1)*(r-2),2)\n",
      "  inds(r) = row_start(r)+(1:r-1)\n",
      "  vcat([ make_row(r, LT[inds(r)]) for r=1:d ]...)\n",
      "end\n",
      "\n",
      "ltri_unpack(D, L) = ltri_unpack([Float64(d) for d in D], [Float64(l) for l in L])\n",
      "\n",
      "@test [11 0 0 0; 21 22 0 0 ; 31 32 33 0 ; 41 42 43 44] == ltri_unpack([11 22 33 44], [21 31 32 41 42 43])\n",
      "\n",
      "LL = ltri_unpack([1.1 2.2 3.3 4.4], [21 31 32 41 42 43])\n",
      "@printf(\"An example lower triangle made from diag and LT=\\n%s\\n\", LL)"
     ],
     "language": "python",
     "metadata": {},
     "outputs": [
      {
       "output_type": "stream",
       "stream": "stdout",
       "text": [
        "An example lower triangle made from diag and LT=\n"
       ]
      },
      {
       "output_type": "stream",
       "stream": "stdout",
       "text": [
        "["
       ]
      },
      {
       "output_type": "stream",
       "stream": "stdout",
       "text": [
        "1.1 0.0 0.0 0.0\n",
        " 21.0 2.2 0.0 0.0\n",
        " 31.0 32.0 3.3 0.0\n",
        " 41.0 42.0 43.0 4.4]\n"
       ]
      }
     ],
     "prompt_number": 3
    },
    {
     "cell_type": "code",
     "collapsed": false,
     "input": [
      "\n",
      "function ltri_pack{M<:AbstractMatrix}(L::M)\n",
      "  d=size(L,1)\n",
      "\n",
      "  make_row(r::Int, L) = hcat(reshape([ L[i] for i=1:r-1 ],1,r-1), D[r], zeros(1,d-r))\n",
      "  row_start(r::Int) = (r-1)*(r-2)/2\n",
      "  diag(L), hcat([L[r,1:r-1] for r=1:d ]...)\n",
      "end\n",
      "\n",
      "ltri_pack{T}(L::LowerTriangular{T, Matrix{T}}) = ltri_pack(full(L)) ## Until  packed storage is implemented for those\n",
      "\n",
      "@test ltri_unpack(ltri_pack(LL)...) == LL\n",
      "\n",
      "@printf(\"pak=%s\\n\", ltri_pack(LL))\n"
     ],
     "language": "python",
     "metadata": {},
     "outputs": [
      {
       "output_type": "stream",
       "stream": "stdout",
       "text": [
        "pak="
       ]
      },
      {
       "output_type": "stream",
       "stream": "stdout",
       "text": [
        "([1.1,2.2,3.3,4.4],\n",
        "[21.0 31.0 32.0 41.0 42.0 43.0])\n"
       ]
      }
     ],
     "prompt_number": 4
    },
    {
     "cell_type": "code",
     "collapsed": false,
     "input": [
      "if false\n",
      "    using IPynbToJl\n",
      "    IPynbToJl.ipynb_to_jl(\"LowerTriangular.ipynb\")\n",
      "    @printf(\"SAVED JL\")\n",
      "end\n"
     ],
     "language": "python",
     "metadata": {},
     "outputs": [
      {
       "output_type": "stream",
       "stream": "stdout",
       "text": [
        "SAVED JL"
       ]
      }
     ],
     "prompt_number": 9
    }
   ],
   "metadata": {}
  }
 ]
}