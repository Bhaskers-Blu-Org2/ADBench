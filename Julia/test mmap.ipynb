{
 "metadata": {
  "language": "Julia",
  "name": "",
  "signature": "sha256:bf54dc133af5eaf7e8fd8badef1b4e9a6f04a86e45f16ef9df3dba28a780b122"
 },
 "nbformat": 3,
 "nbformat_minor": 0,
 "worksheets": [
  {
   "cells": [
    {
     "cell_type": "code",
     "collapsed": false,
     "input": [
      "    filename = \"/tmp/t.txt\"\n",
      "\n",
      "    sz = filesize(filename)\n",
      "    open(filename) do io\n",
      "        a = mmap_array(Uint8, (sz,), io)\n",
      "        finalize(a)\n",
      "    end\n",
      "\n",
      "    show(\"done1\")\n",
      "    \n",
      "    open(filename, \"w\") do io\n",
      "        write(io, \"ystuff\")\n",
      "    end"
     ],
     "language": "python",
     "metadata": {},
     "outputs": [
      {
       "output_type": "stream",
       "stream": "stdout",
       "text": [
        "\""
       ]
      },
      {
       "output_type": "stream",
       "stream": "stdout",
       "text": [
        "done1\""
       ]
      },
      {
       "metadata": {},
       "output_type": "pyout",
       "prompt_number": 14,
       "text": [
        "6"
       ]
      }
     ],
     "prompt_number": 14
    },
    {
     "cell_type": "code",
     "collapsed": false,
     "input": [
      "stat(\"/tmp/t.txt\")"
     ],
     "language": "python",
     "metadata": {},
     "outputs": [
      {
       "metadata": {},
       "output_type": "pyout",
       "prompt_number": 12,
       "text": [
        "StatStruct(mode=100666, size=6)"
       ]
      }
     ],
     "prompt_number": 12
    },
    {
     "cell_type": "code",
     "collapsed": false,
     "input": [
      "readall(filename)"
     ],
     "language": "python",
     "metadata": {},
     "outputs": [
      {
       "metadata": {},
       "output_type": "pyout",
       "prompt_number": 13,
       "text": [
        "\"ystuff\""
       ]
      }
     ],
     "prompt_number": 13
    },
    {
     "cell_type": "code",
     "collapsed": false,
     "input": [],
     "language": "python",
     "metadata": {},
     "outputs": []
    }
   ],
   "metadata": {}
  }
 ]
}