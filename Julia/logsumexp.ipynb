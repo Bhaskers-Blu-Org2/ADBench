{
 "metadata": {
  "language": "Julia",
  "name": "",
  "signature": "sha256:156c6ff543eae851c04742da053711d9bcb7ed2bfa545e9e2235dba5ba031477"
 },
 "nbformat": 3,
 "nbformat_minor": 0,
 "worksheets": [
  {
   "cells": [
    {
     "cell_type": "code",
     "collapsed": false,
     "input": [
      "using Base.Test\n",
      "\n",
      "# logsumexp()\n",
      "function logsumexp(x::Array{Float64,1})\n",
      "  A = maximum(x);\n",
      "  ema = exp(x-A);\n",
      "  sema = sum(ema);\n",
      "  log(sema) + A;\n",
      "end\n",
      "\n",
      "r = rand(5);\n",
      "@test_approx_eq_eps logsumexp(r) log(sum(exp(r))) 1.0e-8\n",
      "@printf(\"logsumexp: %f = %f\\n\", logsumexp(r), log(sum(exp(r))));\n"
     ],
     "language": "python",
     "metadata": {},
     "outputs": [
      {
       "output_type": "stream",
       "stream": "stdout",
       "text": [
        "logsumexp: "
       ]
      },
      {
       "output_type": "stream",
       "stream": "stdout",
       "text": [
        "2.131821 = 2.131821\n"
       ]
      }
     ],
     "prompt_number": 7
    },
    {
     "cell_type": "code",
     "collapsed": false,
     "input": [
      "\n",
      "# logsumexp()\n",
      "function logsumexp_both(x::Array{Float64,1})\n",
      "  A = maximum(x);\n",
      "  ema = exp(x-A);\n",
      "  sema = sum(ema);\n",
      "  l = log(sema) + A;\n",
      "  Jacobian = ema/sema;\n",
      "  return (l, Jacobian);\n",
      "end\n",
      "\n",
      "#logsumexp(x::Array{Float64,1}) = logsumexp_both(x)[1]\n"
     ],
     "language": "python",
     "metadata": {},
     "outputs": [
      {
       "metadata": {},
       "output_type": "pyout",
       "prompt_number": 8,
       "text": [
        "logsumexp_both (generic function with 1 method)"
       ]
      }
     ],
     "prompt_number": 8
    },
    {
     "cell_type": "code",
     "collapsed": false,
     "input": [],
     "language": "python",
     "metadata": {},
     "outputs": []
    }
   ],
   "metadata": {}
  }
 ]
}